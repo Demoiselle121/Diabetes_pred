{
 "cells": [
  {
   "cell_type": "code",
   "execution_count": 5,
   "metadata": {},
   "outputs": [],
   "source": [
    "from PyQt5 import  uic , QtWidgets\n",
    "import sys"
   ]
  },
  {
   "cell_type": "code",
   "execution_count": 1,
   "metadata": {},
   "outputs": [
    {
     "ename": "NameError",
     "evalue": "name 'QtWidgets' is not defined",
     "output_type": "error",
     "traceback": [
      "\u001b[1;31m---------------------------------------------------------------------------\u001b[0m",
      "\u001b[1;31mNameError\u001b[0m                                 Traceback (most recent call last)",
      "\u001b[1;32m<ipython-input-1-667497b33322>\u001b[0m in \u001b[0;36m<module>\u001b[1;34m\u001b[0m\n\u001b[1;32m----> 1\u001b[1;33m \u001b[1;32mclass\u001b[0m \u001b[0mUi\u001b[0m\u001b[1;33m(\u001b[0m\u001b[0mQtWidgets\u001b[0m\u001b[1;33m.\u001b[0m\u001b[0mQMainWindow\u001b[0m\u001b[1;33m)\u001b[0m\u001b[1;33m:\u001b[0m\u001b[1;33m\u001b[0m\u001b[1;33m\u001b[0m\u001b[0m\n\u001b[0m\u001b[0;32m      2\u001b[0m     \u001b[1;32mdef\u001b[0m \u001b[0m__init__\u001b[0m\u001b[1;33m(\u001b[0m\u001b[0mself\u001b[0m\u001b[1;33m)\u001b[0m\u001b[1;33m:\u001b[0m\u001b[1;33m\u001b[0m\u001b[1;33m\u001b[0m\u001b[0m\n\u001b[0;32m      3\u001b[0m         \u001b[0msuper\u001b[0m\u001b[1;33m(\u001b[0m\u001b[0mUi\u001b[0m\u001b[1;33m,\u001b[0m \u001b[0mself\u001b[0m\u001b[1;33m)\u001b[0m\u001b[1;33m.\u001b[0m\u001b[0m__init__\u001b[0m\u001b[1;33m(\u001b[0m\u001b[1;33m)\u001b[0m \u001b[1;31m# Call the inherited classes __init__ method\u001b[0m\u001b[1;33m\u001b[0m\u001b[1;33m\u001b[0m\u001b[0m\n\u001b[0;32m      4\u001b[0m         \u001b[0muic\u001b[0m\u001b[1;33m.\u001b[0m\u001b[0mloadUi\u001b[0m\u001b[1;33m(\u001b[0m\u001b[1;34m'qtDesigner.ui'\u001b[0m\u001b[1;33m,\u001b[0m \u001b[0mself\u001b[0m\u001b[1;33m)\u001b[0m \u001b[1;31m# Load the .ui file\u001b[0m\u001b[1;33m\u001b[0m\u001b[1;33m\u001b[0m\u001b[0m\n\u001b[0;32m      5\u001b[0m \u001b[1;33m\u001b[0m\u001b[0m\n",
      "\u001b[1;31mNameError\u001b[0m: name 'QtWidgets' is not defined"
     ]
    }
   ],
   "source": [
    "class Ui(QtWidgets.QMainWindow):\n",
    "    def __init__(self):\n",
    "        super(Ui, self).__init__() # Call the inherited classes __init__ method\n",
    "        uic.loadUi('qtDesigner.ui', self) # Load the .ui file\n",
    "        \n",
    "        self.widget = self.findChild(QtWidgets.QWidget,\"centralwidget\")\n",
    "        self.lineEdit = self .findChild(QLineEdit,\"lineEdit_7\")\n",
    "        self.lineEdit = self .findChild(QLineEdit,\"lineEdit\")\n",
    "        self.lineEdit = self .findChild(QLineEdit,\"lineEdit_9\")\n",
    "        self.label = self.findChild(QLabel,\"label_11\")\n",
    "        self.label = self.findChild(QLabel,\"label_3\")\n",
    "        self.lineEdit = self .findChild(QLineEdit,\"lineEdit_5\")\n",
    "        self.lineEdit = self .findChild(QLineEdit,\"lineEdit_4\")\n",
    "        self.button = self.findChild(QPushButton,\"pushButton\")\n",
    "\n",
    "\n",
    "        self.button.clicked.connect(self.clicker)\n",
    "\n",
    "\n",
    "        self.show() # Show the GUI\n",
    "    def clicker (self):\n",
    "        self.label.setText(f'Hello There {self.textedit.toPlainText()}')\n",
    "\n",
    "app = QtWidgets.QApplication(sys.argv) # Create an instance of QtWidgets.QApplication\n",
    "window = Ui() # Create an instance of our class\n",
    "app.exec_() # Start the application"
   ]
  },
  {
   "cell_type": "code",
   "execution_count": null,
   "metadata": {},
   "outputs": [],
   "source": []
  }
 ],
 "metadata": {
  "kernelspec": {
   "display_name": "Python 3",
   "language": "python",
   "name": "python3"
  },
  "language_info": {
   "codemirror_mode": {
    "name": "ipython",
    "version": 3
   },
   "file_extension": ".py",
   "mimetype": "text/x-python",
   "name": "python",
   "nbconvert_exporter": "python",
   "pygments_lexer": "ipython3",
   "version": "3.8.3"
  }
 },
 "nbformat": 4,
 "nbformat_minor": 4
}
