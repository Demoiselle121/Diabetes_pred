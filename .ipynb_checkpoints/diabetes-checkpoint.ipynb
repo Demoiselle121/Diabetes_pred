{
 "cells": [
  {
   "cell_type": "code",
   "execution_count": null,
   "metadata": {},
   "outputs": [],
   "source": [
    "import sys\n",
    "from PyQt5.QtGui import QPixmap\n",
    "from PyQt5.QtWidgets import QMainWindow, QApplication, QLabel\n",
    "\n",
    "class MainWindow(QMainWindow):\n",
    "\n",
    "    def __init__(self):\n",
    "        super(MainWindow, self).__init__()\n",
    "        self.title = \"Image Viewer\"\n",
    "        self.setWindowTitle(self.title)\n",
    "\n",
    "        label = QLabel(self)\n",
    "        pixmap = QPixmap(r'C:\\Users\\user\\OneDrive\\Images\\&.jpg')\n",
    "        label.setPixmap(pixmap)\n",
    "        self.setCentralWidget(label)\n",
    "        self.resize(pixmap.width(), pixmap.height())\n",
    "        self.setFixedHeight(400)\n",
    "\n",
    "app = QApplication(sys.argv)\n",
    "w = MainWindow()\n",
    "w.show()\n",
    "sys.exit(app.exec_())"
   ]
  },
  {
   "cell_type": "code",
   "execution_count": null,
   "metadata": {},
   "outputs": [],
   "source": []
  },
  {
   "cell_type": "code",
   "execution_count": null,
   "metadata": {},
   "outputs": [],
   "source": []
  }
 ],
 "metadata": {
  "kernelspec": {
   "display_name": "Python 3",
   "language": "python",
   "name": "python3"
  }
 },
 "nbformat": 4,
 "nbformat_minor": 4
}
